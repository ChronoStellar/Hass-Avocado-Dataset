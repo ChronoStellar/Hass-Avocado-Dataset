{
 "cells": [
  {
   "cell_type": "code",
   "execution_count": 1,
   "id": "1be07b28",
   "metadata": {},
   "outputs": [
    {
     "name": "stdout",
     "output_type": "stream",
     "text": [
      "Balancing to: 2756 total images per class (2204 train / 552 test)\n",
      "\n",
      "✅ Dataset balanced successfully!\n"
     ]
    }
   ],
   "source": [
    "import os\n",
    "import shutil\n",
    "import random\n",
    "from collections import defaultdict\n",
    "\n",
    "# Config\n",
    "BASE_DIR = './relabeled/'\n",
    "CLASSES = ['Belum', 'Sudah', 'Terlalu']\n",
    "SPLITS = ['train', 'test']\n",
    "TARGET_RATIO = 0.8  # 80% train, 20% test\n",
    "\n",
    "# Helper to collect all image paths by class and split\n",
    "image_paths = defaultdict(lambda: defaultdict(list))\n",
    "\n",
    "for split in SPLITS:\n",
    "    for cls in CLASSES:\n",
    "        class_dir = os.path.join(BASE_DIR, split, cls)\n",
    "        if os.path.exists(class_dir):\n",
    "            for fname in os.listdir(class_dir):\n",
    "                if fname.lower().endswith(('.jpg', '.jpeg', '.png')):\n",
    "                    image_paths[cls][split].append(os.path.join(class_dir, fname))\n",
    "\n",
    "# Calculate total images per class\n",
    "class_totals = {cls: len(image_paths[cls]['train']) + len(image_paths[cls]['test']) for cls in CLASSES}\n",
    "min_total = min(class_totals.values())\n",
    "\n",
    "# Target number per class based on ratio\n",
    "target_train = int(min_total * TARGET_RATIO)\n",
    "target_test = min_total - target_train\n",
    "\n",
    "print(f\"Balancing to: {min_total} total images per class ({target_train} train / {target_test} test)\\n\")\n",
    "\n",
    "# Stratify each class\n",
    "for cls in CLASSES:\n",
    "    all_images = image_paths[cls]['train'] + image_paths[cls]['test']\n",
    "    random.shuffle(all_images)\n",
    "\n",
    "    selected = all_images[:min_total]\n",
    "    new_train = selected[:target_train]\n",
    "    new_test = selected[target_train:]\n",
    "\n",
    "    # Clear target directories\n",
    "    for split in SPLITS:\n",
    "        cls_dir = os.path.join(BASE_DIR, split, cls)\n",
    "        for f in os.listdir(cls_dir):\n",
    "            fpath = os.path.join(cls_dir, f)\n",
    "            if fpath not in new_train and fpath not in new_test:\n",
    "                os.remove(fpath)\n",
    "\n",
    "    # Move files to correct folders if needed\n",
    "    for fpath in selected:\n",
    "        fname = os.path.basename(fpath)\n",
    "        target_split = 'train' if fpath in new_train else 'test'\n",
    "        target_path = os.path.join(BASE_DIR, target_split, cls, fname)\n",
    "\n",
    "        if fpath != target_path:\n",
    "            shutil.move(fpath, target_path)\n",
    "\n",
    "print(\"✅ Dataset balanced successfully!\")\n"
   ]
  }
 ],
 "metadata": {
  "kernelspec": {
   "display_name": "AI",
   "language": "python",
   "name": "python3"
  },
  "language_info": {
   "codemirror_mode": {
    "name": "ipython",
    "version": 3
   },
   "file_extension": ".py",
   "mimetype": "text/x-python",
   "name": "python",
   "nbconvert_exporter": "python",
   "pygments_lexer": "ipython3",
   "version": "3.11.11"
  }
 },
 "nbformat": 4,
 "nbformat_minor": 5
}
